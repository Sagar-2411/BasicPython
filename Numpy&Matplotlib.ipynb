{
 "cells": [
  {
   "cell_type": "markdown",
   "metadata": {},
   "source": [
    "# Assignment 3"
   ]
  },
  {
   "cell_type": "code",
   "execution_count": 87,
   "metadata": {},
   "outputs": [
    {
     "name": "stdout",
     "output_type": "stream",
     "text": [
      "[ 2  5  8 11 14 17 20 23 26 29 32 35 38 41 44 47]\n"
     ]
    }
   ],
   "source": [
    "#Question-1\n",
    "import numpy as np\n",
    "arr = np.array(np.arange(2,50,3))\n",
    "print(arr)"
   ]
  },
  {
   "cell_type": "code",
   "execution_count": 26,
   "metadata": {},
   "outputs": [
    {
     "name": "stdout",
     "output_type": "stream",
     "text": [
      "First list: \n",
      "1\n",
      "2\n",
      "7\n",
      "5\n",
      "3\n",
      "Second list: \n",
      "7\n",
      "6\n",
      "3\n",
      "9\n",
      "10\n",
      "\n",
      "[ 1  2  7  5  3  7  6  3  9 10]\n",
      "\n",
      "Sorted Array1:  [1 2 3 5 7]\n",
      "Sorted Array2:  [1 2 3 5 7]\n"
     ]
    }
   ],
   "source": [
    "#Question2\n",
    "l1=[ ]\n",
    "l2=[ ]\n",
    "print(\"First list: \")\n",
    "for i in range(0,5):\n",
    "    x=int(input())\n",
    "    l1.append(x);\n",
    "print(\"Second list: \")\n",
    "for i in range(0,5):\n",
    "    x=int(input())\n",
    "    l2.append(x);\n",
    "l1=np.array(l1)\n",
    "l2=np.array(l2)\n",
    "print()\n",
    "print(np.concatenate((l1,l2), axis=None))\n",
    "print()\n",
    "print(\"Sorted Array1: \",np.sort(l1))\n",
    "print(\"Sorted Array2: \",np.sort(l2))"
   ]
  },
  {
   "cell_type": "code",
   "execution_count": 85,
   "metadata": {},
   "outputs": [
    {
     "name": "stdout",
     "output_type": "stream",
     "text": [
      "Dimensions: 2\n",
      "Size: 8\n"
     ]
    }
   ],
   "source": [
    "#Question3\n",
    "arr=np.array([[1,2,3,4],[5,6,7,8]])\n",
    "print(\"Dimensions:\",arr.ndim)      #To find number of dimensions of an array.\n",
    "print(\"Size:\",arr.size)            #To find the size of an array."
   ]
  },
  {
   "cell_type": "code",
   "execution_count": 78,
   "metadata": {},
   "outputs": [
    {
     "name": "stdout",
     "output_type": "stream",
     "text": [
      "[[1]\n",
      " [2]\n",
      " [3]]\n",
      "\n",
      "\n",
      "[[1 2 3]]\n",
      "\n",
      "[[1]\n",
      " [2]\n",
      " [3]]\n"
     ]
    }
   ],
   "source": [
    "#Question4\n",
    "arr=np.array([1,2,3])                #Suppose we have 1D array like this.\n",
    "print(arr[:,np.newaxis])             #By applying np.newaxis one time we can convert arr into 2D.\n",
    "print()\n",
    "print()\n",
    "print(np.expand_dims(arr,axis=0)) #By using np.expand_dims() also we can convert 1D into 2D\n",
    "print()\n",
    "print(np.expand_dims(arr,axis=1)) #By using np.expand_dims() also we can convert 1D into 2D"
   ]
  },
  {
   "cell_type": "code",
   "execution_count": 30,
   "metadata": {},
   "outputs": [
    {
     "name": "stdout",
     "output_type": "stream",
     "text": [
      "[[ 6 12 18]\n",
      " [24 30 36]\n",
      " [42 48 54]\n",
      " [ 7 14 21]\n",
      " [28 35 42]\n",
      " [49 56 72]]\n",
      "\n",
      "[[ 6 12 18  7 14 21]\n",
      " [24 30 36 28 35 42]\n",
      " [42 48 54 49 56 72]]\n"
     ]
    }
   ],
   "source": [
    "#Question5\n",
    "A1=[[6,12,18],[24,30,36],[42,48,54]]\n",
    "A2=[[7,14,21],[28,35,42],[49,56,72]]\n",
    "\n",
    "print(np.vstack((A1,A2)))\n",
    "print()\n",
    "print(np.hstack((A1,A2)))"
   ]
  },
  {
   "cell_type": "code",
   "execution_count": 86,
   "metadata": {},
   "outputs": [
    {
     "name": "stdout",
     "output_type": "stream",
     "text": [
      "{1, 3, 4, 5}\n",
      "4\n"
     ]
    }
   ],
   "source": [
    "#Question6\n",
    "list1=[1,1,3,4,3,5]     #Suppose we have this kind of array having non-unique items.\n",
    "\n",
    "print(set(list1))       #By applying set on this array we will get a set of unique items. \n",
    "\n",
    "print(len(set(list1)))           #By applying len() function we will get the number of unique items."
   ]
  }
 ],
 "metadata": {
  "kernelspec": {
   "display_name": "Python 3",
   "language": "python",
   "name": "python3"
  },
  "language_info": {
   "codemirror_mode": {
    "name": "ipython",
    "version": 3
   },
   "file_extension": ".py",
   "mimetype": "text/x-python",
   "name": "python",
   "nbconvert_exporter": "python",
   "pygments_lexer": "ipython3",
   "version": "3.8.3"
  }
 },
 "nbformat": 4,
 "nbformat_minor": 4
}
