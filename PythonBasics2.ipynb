{
 "cells": [
  {
   "cell_type": "markdown",
   "metadata": {},
   "source": [
    "# Assignment-2"
   ]
  },
  {
   "cell_type": "code",
   "execution_count": 5,
   "metadata": {},
   "outputs": [
    {
     "name": "stdout",
     "output_type": "stream",
     "text": [
      "Number: 10\n",
      "Number: 11\n",
      "Number: 12\n",
      "Number: 13\n",
      "Number: 14\n",
      "Number: 15\n",
      "Number: 16\n",
      "Number: 17\n",
      "Number: 18\n",
      "Number: 19\n",
      "[10, 12, 14, 16, 18]\n"
     ]
    }
   ],
   "source": [
    "#Question-1\n",
    "l=[]\n",
    "for i in range(0,10):\n",
    "    x=int(input(\"Number: \"))\n",
    "    if(x%2==0):\n",
    "        l.append(x)\n",
    "print(l)"
   ]
  },
  {
   "cell_type": "code",
   "execution_count": 40,
   "metadata": {},
   "outputs": [
    {
     "name": "stdout",
     "output_type": "stream",
     "text": [
      "['L', 'e', 't', 's', 'U', 'p', 'g', 'r', 'a', 'd', 'e']\n",
      "[0, 2, 4, 6, 8, 10, 12, 14, 16, 18]\n",
      "[0, 10, 20, 30, 40, 50, 60, 70, 80, 90]\n",
      "['Even', 'Odd', 'Even', 'Odd', 'Even', 'Odd', 'Even']\n"
     ]
    }
   ],
   "source": [
    "# Question-2\n",
    "# LIST COMPREHENSION:  an elegant way to define and create lists based on existing lists.\n",
    "\n",
    "# Let's take an example\n",
    "list1 = [i for i in 'LetsUpgrade']  # We are storing letters of 'LetsUpgrade' in list.\n",
    "#Syntax: [Expression for item in list]\n",
    "print(list1)\n",
    "\n",
    "# Using if with List Comprehension\n",
    "list2 = [ j for j in range(20) if j % 2 == 0]  # will store divisable numbers by 2.\n",
    "print(list2)\n",
    "\n",
    "# Nested IF with List Comprehension\n",
    "list3 = [k for k in range(100) if k % 2 == 0 if k % 5 == 0] # will store divisable numbers by 2 and 5.\n",
    "print(list3)\n",
    "\n",
    "#  if...else With List Comprehension\n",
    "list4 = [\"Even\" if x%2==0 else \"Odd\" for x in range(7)]\n",
    "print(list4)\n",
    "\n",
    "#NOTES:\n",
    "# LIST COMPREHENSION:  an elegant way to define and create lists based on existing lists.\n",
    "# It is more compact and faster than normal functions and loops for creating list.\n",
    "# We should avoid writing very long list comprehensions in one line to ensure that code is user-friendly.\n",
    "# every list comprehension can be rewritten in for loop, but every for loop can’t be rewritten in the form of list comprehension."
   ]
  },
  {
   "cell_type": "code",
   "execution_count": 9,
   "metadata": {},
   "outputs": [
    {
     "name": "stdout",
     "output_type": "stream",
     "text": [
      "n:5\n",
      "{1: 1, 2: 4, 3: 9, 4: 16, 5: 25}\n"
     ]
    }
   ],
   "source": [
    "# Question-3\n",
    "n=int(input(\"n:\"))\n",
    "d1={}\n",
    "i=1;\n",
    "while i<=n:\n",
    "    d2={i:i*i}\n",
    "    d1.update(d2)\n",
    "    i=i+1\n",
    "print(d1)"
   ]
  },
  {
   "cell_type": "code",
   "execution_count": 28,
   "metadata": {},
   "outputs": [
    {
     "name": "stdout",
     "output_type": "stream",
     "text": [
      "4\n",
      "up 5\n",
      "down 3\n",
      "right 2\n",
      "left 3\n",
      "Distance: 2\n"
     ]
    }
   ],
   "source": [
    "# Question-4\n",
    "import math\n",
    "n=int(input())\n",
    "O=0+0j\n",
    "moves={\"UP\":1j , \"DOWN\":-1j, \"LEFT\":-1, \"RIGHT\":1}\n",
    "for i in range(0,n):\n",
    "    x=input()\n",
    "    l=x.split()\n",
    "    O=O+(moves[l[0].upper()]*int(l[1]))\n",
    "O=round(math.hypot(O.real,O.imag))\n",
    "print(\"Distance:\",O)"
   ]
  }
 ],
 "metadata": {
  "kernelspec": {
   "display_name": "Python 3",
   "language": "python",
   "name": "python3"
  },
  "language_info": {
   "codemirror_mode": {
    "name": "ipython",
    "version": 3
   },
   "file_extension": ".py",
   "mimetype": "text/x-python",
   "name": "python",
   "nbconvert_exporter": "python",
   "pygments_lexer": "ipython3",
   "version": "3.8.3"
  }
 },
 "nbformat": 4,
 "nbformat_minor": 4
}
