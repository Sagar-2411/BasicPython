{
 "cells": [
  {
   "cell_type": "raw",
   "metadata": {},
   "source": [
    "#Question-1\n",
    "RAINBOW"
   ]
  },
  {
   "cell_type": "code",
   "execution_count": 15,
   "metadata": {},
   "outputs": [
    {
     "name": "stdout",
     "output_type": "stream",
     "text": [
      "LETS UPGRADE\n"
     ]
    }
   ],
   "source": [
    "#Question-2\n",
    "print(\"LETS UPGRADE\")"
   ]
  },
  {
   "cell_type": "code",
   "execution_count": 16,
   "metadata": {},
   "outputs": [
    {
     "name": "stdout",
     "output_type": "stream",
     "text": [
      "the cost prize: 12\n",
      "the selling prize: 11\n",
      "Loss\n"
     ]
    }
   ],
   "source": [
    "#Question-3\n",
    "x = int(input(\"the cost prize: \"))\n",
    "y=  int(input(\"the selling prize: \"))\n",
    "if((x-y)==0):\n",
    "   print(\"Niether\")\n",
    "elif((x-y)>0):\n",
    "   print(\"Loss\")\n",
    "else:\n",
    "   print(\"Profit\")"
   ]
  },
  {
   "cell_type": "code",
   "execution_count": 14,
   "metadata": {},
   "outputs": [
    {
     "name": "stdout",
     "output_type": "stream",
     "text": [
      "amount in INR:12000\n",
      "In Euro: 150.0\n"
     ]
    }
   ],
   "source": [
    "#Question-4\n",
    "x=int(input(\"amount in INR:\"))\n",
    "print(\"In Euro:\",x/80)"
   ]
  }
 ],
 "metadata": {
  "kernelspec": {
   "display_name": "Python 3",
   "language": "python",
   "name": "python3"
  }
 },
 "nbformat": 4,
 "nbformat_minor": 4
}
